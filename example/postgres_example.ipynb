{
 "cells": [
  {
   "cell_type": "code",
   "id": "initial_id",
   "metadata": {
    "collapsed": true,
    "ExecuteTime": {
     "end_time": "2025-07-31T05:24:19.771685Z",
     "start_time": "2025-07-31T05:24:18.355998Z"
    }
   },
   "source": "from ryoma_ai.datasource.postgres import PostgresDataSource",
   "outputs": [],
   "execution_count": 1
  },
  {
   "metadata": {
    "ExecuteTime": {
     "end_time": "2025-07-31T05:25:31.437373Z",
     "start_time": "2025-07-31T05:25:31.417154Z"
    }
   },
   "cell_type": "code",
   "source": [
    "postgres = PostgresDataSource(\n",
    "    host=\"localhost\",\n",
    "    port=5432,\n",
    "    database=\"postgres\",\n",
    "    user=\"\",\n",
    "    password=\"\",\n",
    ")"
   ],
   "id": "ccd50bd757fc9b73",
   "outputs": [],
   "execution_count": 5
  },
  {
   "metadata": {
    "ExecuteTime": {
     "end_time": "2025-07-31T05:25:32.725488Z",
     "start_time": "2025-07-31T05:25:32.627259Z"
    }
   },
   "cell_type": "code",
   "source": "postgres.query(\"select * from public.artist limit 3\")",
   "id": "b1d473afd9646d9b",
   "outputs": [
    {
     "data": {
      "text/plain": [
       "   Artist_ID      Artist  Age                             Famous_Title  \\\n",
       "0          1   Gorgoroth   34                              Bergen 1996   \n",
       "1          2  Ophiolatry   35                            Transmutation   \n",
       "2          3  Ophiolatry   22  Antievangelistical Process (re-release)   \n",
       "\n",
       "  Famous_Release_date  \n",
       "0       November 2007  \n",
       "1    January 21, 2008  \n",
       "2                2009  "
      ],
      "text/html": [
       "<div>\n",
       "<style scoped>\n",
       "    .dataframe tbody tr th:only-of-type {\n",
       "        vertical-align: middle;\n",
       "    }\n",
       "\n",
       "    .dataframe tbody tr th {\n",
       "        vertical-align: top;\n",
       "    }\n",
       "\n",
       "    .dataframe thead th {\n",
       "        text-align: right;\n",
       "    }\n",
       "</style>\n",
       "<table border=\"1\" class=\"dataframe\">\n",
       "  <thead>\n",
       "    <tr style=\"text-align: right;\">\n",
       "      <th></th>\n",
       "      <th>Artist_ID</th>\n",
       "      <th>Artist</th>\n",
       "      <th>Age</th>\n",
       "      <th>Famous_Title</th>\n",
       "      <th>Famous_Release_date</th>\n",
       "    </tr>\n",
       "  </thead>\n",
       "  <tbody>\n",
       "    <tr>\n",
       "      <th>0</th>\n",
       "      <td>1</td>\n",
       "      <td>Gorgoroth</td>\n",
       "      <td>34</td>\n",
       "      <td>Bergen 1996</td>\n",
       "      <td>November 2007</td>\n",
       "    </tr>\n",
       "    <tr>\n",
       "      <th>1</th>\n",
       "      <td>2</td>\n",
       "      <td>Ophiolatry</td>\n",
       "      <td>35</td>\n",
       "      <td>Transmutation</td>\n",
       "      <td>January 21, 2008</td>\n",
       "    </tr>\n",
       "    <tr>\n",
       "      <th>2</th>\n",
       "      <td>3</td>\n",
       "      <td>Ophiolatry</td>\n",
       "      <td>22</td>\n",
       "      <td>Antievangelistical Process (re-release)</td>\n",
       "      <td>2009</td>\n",
       "    </tr>\n",
       "  </tbody>\n",
       "</table>\n",
       "</div>"
      ]
     },
     "execution_count": 6,
     "metadata": {},
     "output_type": "execute_result"
    }
   ],
   "execution_count": 6
  },
  {
   "metadata": {},
   "cell_type": "code",
   "outputs": [],
   "execution_count": null,
   "source": "",
   "id": "a94e50db1503349c"
  },
  {
   "metadata": {
    "ExecuteTime": {
     "end_time": "2025-07-31T05:26:04.784330Z",
     "start_time": "2025-07-31T05:26:03.582748Z"
    }
   },
   "cell_type": "code",
   "source": [
    "from ryoma_ai.agent.sql import SqlAgent\n",
    "\n",
    "sql_agent = (\n",
    "    SqlAgent(\"gpt-3.5-turbo\")\n",
    "    .datasource(postgres)\n",
    ")"
   ],
   "id": "7f14edc36ecfedc4",
   "outputs": [],
   "execution_count": 7
  },
  {
   "metadata": {
    "ExecuteTime": {
     "end_time": "2025-07-31T05:26:56.372556Z",
     "start_time": "2025-07-31T05:26:55.732037Z"
    }
   },
   "cell_type": "code",
   "source": "sql_agent.invoke(\"I want to get the oldest artist in the database artist\")",
   "id": "71b332415c1b691c",
   "outputs": [
    {
     "name": "stdout",
     "output_type": "stream",
     "text": [
      "================================\u001B[1m Human Message \u001B[0m=================================\n",
      "\n",
      "I want to get the oldest artist in the database artist\n",
      "==================================\u001B[1m Ai Message \u001B[0m==================================\n",
      "Tool Calls:\n",
      "  sql_database_query (call_Z0n9xRIzbk5As5LLPMxk7RhK)\n",
      " Call ID: call_Z0n9xRIzbk5As5LLPMxk7RhK\n",
      "  Args:\n",
      "    query: SELECT * FROM artist ORDER BY birthdate LIMIT 1\n"
     ]
    },
    {
     "data": {
      "text/plain": [
       "{'messages': [HumanMessage(content='I want to get the oldest artist in the database artist', id='dea95e9f-8f7c-4146-8403-8fbf2692dbd9'),\n",
       "  AIMessage(content='', additional_kwargs={'tool_calls': [{'id': 'call_Z0n9xRIzbk5As5LLPMxk7RhK', 'function': {'arguments': '{\"query\":\"SELECT * FROM artist ORDER BY birthdate LIMIT 1\"}', 'name': 'sql_database_query'}, 'type': 'function'}], 'refusal': None}, response_metadata={'token_usage': {'completion_tokens': 25, 'prompt_tokens': 324, 'total_tokens': 349, 'completion_tokens_details': {'reasoning_tokens': 0, 'audio_tokens': 0, 'accepted_prediction_tokens': 0, 'rejected_prediction_tokens': 0}, 'prompt_tokens_details': {'cached_tokens': 0, 'audio_tokens': 0}}, 'model_name': 'gpt-3.5-turbo-0125', 'system_fingerprint': None, 'finish_reason': 'tool_calls', 'logprobs': None}, id='run-6007f337-c919-4b35-87cf-2c18c4154479-0', tool_calls=[{'name': 'sql_database_query', 'args': {'query': 'SELECT * FROM artist ORDER BY birthdate LIMIT 1'}, 'id': 'call_Z0n9xRIzbk5As5LLPMxk7RhK', 'type': 'tool_call'}], usage_metadata={'input_tokens': 324, 'output_tokens': 25, 'total_tokens': 349})]}"
      ]
     },
     "execution_count": 8,
     "metadata": {},
     "output_type": "execute_result"
    }
   ],
   "execution_count": 8
  },
  {
   "metadata": {
    "ExecuteTime": {
     "end_time": "2025-07-31T05:27:36.209409Z",
     "start_time": "2025-07-31T05:27:34.941463Z"
    }
   },
   "cell_type": "code",
   "source": [
    "from ryoma_ai.agent.workflow import ToolMode\n",
    "\n",
    "sql_agent.invoke(ToolMode.ONCE)"
   ],
   "id": "bd613fc722bbb7b1",
   "outputs": [
    {
     "name": "stdout",
     "output_type": "stream",
     "text": [
      "================================\u001B[1m Human Message \u001B[0m=================================\n",
      "\n",
      "I want to get the oldest artist in the database artist\n",
      "==================================\u001B[1m Ai Message \u001B[0m==================================\n",
      "Tool Calls:\n",
      "  sql_database_query (call_Z0n9xRIzbk5As5LLPMxk7RhK)\n",
      " Call ID: call_Z0n9xRIzbk5As5LLPMxk7RhK\n",
      "  Args:\n",
      "    query: SELECT * FROM artist ORDER BY birthdate LIMIT 1\n",
      "=================================\u001B[1m Tool Message \u001B[0m=================================\n",
      "\n",
      "Tool call denied by user. Reasoning: 'ToolMode.ONCE'. Continue assisting, accounting for the user's input.\n",
      "==================================\u001B[1m Ai Message \u001B[0m==================================\n",
      "\n",
      "To get the oldest artist in the database, we can retrieve the artist with the earliest birthdate. Let's execute the SQL query to find the oldest artist in the database.\n",
      "Tool Calls:\n",
      "  sql_database_query (call_pK7Corp7jBUqfLqe6TKtx0P7)\n",
      " Call ID: call_pK7Corp7jBUqfLqe6TKtx0P7\n",
      "  Args:\n",
      "    query: SELECT * FROM artist ORDER BY birthdate LIMIT 1\n"
     ]
    },
    {
     "data": {
      "text/plain": [
       "{'messages': [HumanMessage(content='I want to get the oldest artist in the database artist', id='dea95e9f-8f7c-4146-8403-8fbf2692dbd9'),\n",
       "  AIMessage(content='', additional_kwargs={'tool_calls': [{'id': 'call_Z0n9xRIzbk5As5LLPMxk7RhK', 'function': {'arguments': '{\"query\":\"SELECT * FROM artist ORDER BY birthdate LIMIT 1\"}', 'name': 'sql_database_query'}, 'type': 'function'}], 'refusal': None}, response_metadata={'token_usage': {'completion_tokens': 25, 'prompt_tokens': 324, 'total_tokens': 349, 'completion_tokens_details': {'reasoning_tokens': 0, 'audio_tokens': 0, 'accepted_prediction_tokens': 0, 'rejected_prediction_tokens': 0}, 'prompt_tokens_details': {'cached_tokens': 0, 'audio_tokens': 0}}, 'model_name': 'gpt-3.5-turbo-0125', 'system_fingerprint': None, 'finish_reason': 'tool_calls', 'logprobs': None}, id='run-6007f337-c919-4b35-87cf-2c18c4154479-0', tool_calls=[{'name': 'sql_database_query', 'args': {'query': 'SELECT * FROM artist ORDER BY birthdate LIMIT 1'}, 'id': 'call_Z0n9xRIzbk5As5LLPMxk7RhK', 'type': 'tool_call'}], usage_metadata={'input_tokens': 324, 'output_tokens': 25, 'total_tokens': 349}),\n",
       "  ToolMessage(content=\"Tool call denied by user. Reasoning: 'ToolMode.ONCE'. Continue assisting, accounting for the user's input.\", id='378bb2c6-e57f-4cc2-b56b-acfb45cdd2ce', tool_call_id='call_Z0n9xRIzbk5As5LLPMxk7RhK'),\n",
       "  AIMessage(content=\"To get the oldest artist in the database, we can retrieve the artist with the earliest birthdate. Let's execute the SQL query to find the oldest artist in the database.\", additional_kwargs={'tool_calls': [{'id': 'call_pK7Corp7jBUqfLqe6TKtx0P7', 'function': {'arguments': '{\"query\":\"SELECT * FROM artist ORDER BY birthdate LIMIT 1\"}', 'name': 'sql_database_query'}, 'type': 'function'}], 'refusal': None}, response_metadata={'token_usage': {'completion_tokens': 61, 'prompt_tokens': 383, 'total_tokens': 444, 'completion_tokens_details': {'reasoning_tokens': 0, 'audio_tokens': 0, 'accepted_prediction_tokens': 0, 'rejected_prediction_tokens': 0}, 'prompt_tokens_details': {'cached_tokens': 0, 'audio_tokens': 0}}, 'model_name': 'gpt-3.5-turbo-0125', 'system_fingerprint': None, 'finish_reason': 'tool_calls', 'logprobs': None}, id='run-d2586afe-cf7b-4a95-a1d4-dee9ec29afda-0', tool_calls=[{'name': 'sql_database_query', 'args': {'query': 'SELECT * FROM artist ORDER BY birthdate LIMIT 1'}, 'id': 'call_pK7Corp7jBUqfLqe6TKtx0P7', 'type': 'tool_call'}], usage_metadata={'input_tokens': 383, 'output_tokens': 61, 'total_tokens': 444})]}"
      ]
     },
     "execution_count": 9,
     "metadata": {},
     "output_type": "execute_result"
    }
   ],
   "execution_count": 9
  }
 ],
 "metadata": {
  "kernelspec": {
   "display_name": "Python 3",
   "language": "python",
   "name": "python3"
  },
  "language_info": {
   "codemirror_mode": {
    "name": "ipython",
    "version": 2
   },
   "file_extension": ".py",
   "mimetype": "text/x-python",
   "name": "python",
   "nbconvert_exporter": "python",
   "pygments_lexer": "ipython2",
   "version": "2.7.6"
  }
 },
 "nbformat": 4,
 "nbformat_minor": 5
}
