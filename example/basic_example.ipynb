{
 "cells": [
  {
   "cell_type": "code",
   "execution_count": 1,
   "metadata": {
    "collapsed": true
   },
   "outputs": [],
   "source": [
    "import os\n",
    "from aita.datasource.snowflake import SnowflakeDataSource\n",
    "from aita.datasource.postgresql import PostgreSqlDataSource\n",
    "from aita.agent import SqlAgent, PandasAgent, PythonAgent"
   ]
  },
  {
   "cell_type": "code",
   "execution_count": 2,
   "outputs": [],
   "source": [
    "SNOWFLAKE_USER = os.environ.get(\"SNOWFLAKE_USER\")\n",
    "SNOWFLAKE_PASSWORD = os.environ.get(\"SNOWFLAKE_PASSWORD\")\n",
    "SNOWFLAKE_ACCOUNT = os.environ.get(\"SNOWFLAKE_ACCOUNT\")\n",
    "SNOWFLAKE_WAREHOUSE = os.environ.get(\"SNOWFLAKE_WAREHOUSE\")\n",
    "SNOWFLAKE_DATABASE = os.environ.get(\"SNOWFLAKE_DATABASE\")\n",
    "SNOWFLAKE_SCHEMA = os.environ.get(\"SNOWFLAKE_SCHEMA\")\n",
    "SNOWFLAKE_ROLE = os.environ.get(\"SNOWFLAKE_ROLE\")"
   ],
   "metadata": {
    "collapsed": false
   }
  },
  {
   "cell_type": "code",
   "execution_count": 3,
   "outputs": [],
   "source": [
    "sf_datasource = SnowflakeDataSource(\n",
    "    user=SNOWFLAKE_USER,\n",
    "    password=SNOWFLAKE_PASSWORD,\n",
    "    account=SNOWFLAKE_ACCOUNT,\n",
    "    warehouse=SNOWFLAKE_WAREHOUSE,\n",
    "    database=SNOWFLAKE_DATABASE,\n",
    "    schema=SNOWFLAKE_SCHEMA,\n",
    "    role=SNOWFLAKE_ROLE\n",
    ")"
   ],
   "metadata": {
    "collapsed": false
   }
  },
  {
   "cell_type": "code",
   "execution_count": 4,
   "outputs": [],
   "source": [
    "pg_datasource = PostgreSqlDataSource(\n",
    "    user=\"\",\n",
    "    password=\"\",\n",
    "    host=\"localhost\",\n",
    "    port=\"5432\",\n",
    "    database=\"aita\"\n",
    ")"
   ],
   "metadata": {
    "collapsed": false
   }
  },
  {
   "cell_type": "code",
   "execution_count": 6,
   "outputs": [
    {
     "ename": "ProgrammingError",
     "evalue": "002003 (02000): SQL compilation error:\nDatabase 'DEMO' does not exist or not authorized.",
     "output_type": "error",
     "traceback": [
      "\u001B[0;31m---------------------------------------------------------------------------\u001B[0m",
      "\u001B[0;31mProgrammingError\u001B[0m                          Traceback (most recent call last)",
      "Cell \u001B[0;32mIn[6], line 2\u001B[0m\n\u001B[1;32m      1\u001B[0m \u001B[38;5;66;03m# Basic example of using the SQL agent\u001B[39;00m\n\u001B[0;32m----> 2\u001B[0m sql_agent \u001B[38;5;241m=\u001B[39m \u001B[43mSqlAgent\u001B[49m\u001B[43m(\u001B[49m\u001B[43msf_datasource\u001B[49m\u001B[43m,\u001B[49m\u001B[43m \u001B[49m\u001B[38;5;124;43m\"\u001B[39;49m\u001B[38;5;124;43mgpt-3.5-turbo\u001B[39;49m\u001B[38;5;124;43m\"\u001B[39;49m\u001B[43m,\u001B[49m\u001B[43m \u001B[49m\u001B[38;5;241;43m0.8\u001B[39;49m\u001B[43m,\u001B[49m\u001B[43m \u001B[49m\u001B[43mallow_extract_metadata\u001B[49m\u001B[38;5;241;43m=\u001B[39;49m\u001B[38;5;28;43;01mTrue\u001B[39;49;00m\u001B[43m)\u001B[49m\n\u001B[1;32m      4\u001B[0m \u001B[38;5;28mprint\u001B[39m(sql_agent\u001B[38;5;241m.\u001B[39mchat(\u001B[38;5;124m\"\u001B[39m\u001B[38;5;124mI want to get the top customers which making the most purchases\u001B[39m\u001B[38;5;124m\"\u001B[39m))\n",
      "File \u001B[0;32m~/dev/aita/monorepo/aita/agent.py:68\u001B[0m, in \u001B[0;36mSqlAgent.__init__\u001B[0;34m(self, datasource, model, temperature, allow_extract_metadata)\u001B[0m\n\u001B[1;32m     64\u001B[0m tools \u001B[38;5;241m=\u001B[39m [\n\u001B[1;32m     65\u001B[0m     QuerySQLDataBaseTool(datasource\u001B[38;5;241m=\u001B[39mdatasource),\n\u001B[1;32m     66\u001B[0m ]\n\u001B[1;32m     67\u001B[0m \u001B[38;5;28;01mif\u001B[39;00m allow_extract_metadata:\n\u001B[0;32m---> 68\u001B[0m     metadata \u001B[38;5;241m=\u001B[39m \u001B[43mdatasource\u001B[49m\u001B[38;5;241;43m.\u001B[39;49m\u001B[43mget_metadata\u001B[49m\u001B[43m(\u001B[49m\u001B[43m)\u001B[49m\n\u001B[1;32m     69\u001B[0m     \u001B[38;5;28mself\u001B[39m\u001B[38;5;241m.\u001B[39mprompt_context \u001B[38;5;241m=\u001B[39m \u001B[38;5;28mself\u001B[39m\u001B[38;5;241m.\u001B[39mprompt_context\u001B[38;5;241m.\u001B[39mformat(metadata\u001B[38;5;241m=\u001B[39mmetadata)\n\u001B[1;32m     70\u001B[0m \u001B[38;5;28msuper\u001B[39m()\u001B[38;5;241m.\u001B[39m\u001B[38;5;21m__init__\u001B[39m(model, temperature, tools, prompt_context\u001B[38;5;241m=\u001B[39m\u001B[38;5;28mself\u001B[39m\u001B[38;5;241m.\u001B[39mprompt_context)\n",
      "File \u001B[0;32m~/dev/aita/monorepo/aita/datasource/snowflake.py:89\u001B[0m, in \u001B[0;36mSnowflakeDataSource.get_metadata\u001B[0;34m(self, **kwargs)\u001B[0m\n\u001B[1;32m     81\u001B[0m     where_clause_suffix \u001B[38;5;241m=\u001B[39m \u001B[38;5;124m\"\u001B[39m\u001B[38;5;124m\"\u001B[39m\n\u001B[1;32m     83\u001B[0m sql_statement \u001B[38;5;241m=\u001B[39m \u001B[38;5;28mself\u001B[39m\u001B[38;5;241m.\u001B[39mSQL_STATEMENT\u001B[38;5;241m.\u001B[39mformat(\n\u001B[1;32m     84\u001B[0m     cluster_source\u001B[38;5;241m=\u001B[39m\u001B[38;5;124m\"\u001B[39m\u001B[38;5;124mcluster\u001B[39m\u001B[38;5;124m\"\u001B[39m,\n\u001B[1;32m     85\u001B[0m     database\u001B[38;5;241m=\u001B[39m\u001B[38;5;28mself\u001B[39m\u001B[38;5;241m.\u001B[39mdatabase,\n\u001B[1;32m     86\u001B[0m     schema\u001B[38;5;241m=\u001B[39m\u001B[38;5;28mself\u001B[39m\u001B[38;5;241m.\u001B[39mschema,\n\u001B[1;32m     87\u001B[0m     where_clause_suffix\u001B[38;5;241m=\u001B[39mwhere_clause_suffix,\n\u001B[1;32m     88\u001B[0m )\n\u001B[0;32m---> 89\u001B[0m \u001B[38;5;28;01mreturn\u001B[39;00m \u001B[38;5;28;43mself\u001B[39;49m\u001B[38;5;241;43m.\u001B[39;49m\u001B[43mexecute\u001B[49m\u001B[43m(\u001B[49m\u001B[43msql_statement\u001B[49m\u001B[43m)\u001B[49m\n",
      "File \u001B[0;32m~/dev/aita/monorepo/aita/datasource/snowflake.py:67\u001B[0m, in \u001B[0;36mSnowflakeDataSource.execute\u001B[0;34m(self, query, params)\u001B[0m\n\u001B[1;32m     65\u001B[0m \u001B[38;5;28;01mdef\u001B[39;00m \u001B[38;5;21mexecute\u001B[39m(\u001B[38;5;28mself\u001B[39m, query: \u001B[38;5;28mstr\u001B[39m, params\u001B[38;5;241m=\u001B[39m\u001B[38;5;28;01mNone\u001B[39;00m):\n\u001B[1;32m     66\u001B[0m     cur \u001B[38;5;241m=\u001B[39m \u001B[38;5;28mself\u001B[39m\u001B[38;5;241m.\u001B[39mengine\u001B[38;5;241m.\u001B[39mcursor()\n\u001B[0;32m---> 67\u001B[0m     \u001B[43mcur\u001B[49m\u001B[38;5;241;43m.\u001B[39;49m\u001B[43mexecute\u001B[49m\u001B[43m(\u001B[49m\u001B[43mquery\u001B[49m\u001B[43m,\u001B[49m\u001B[43m \u001B[49m\u001B[43mparams\u001B[49m\u001B[43m)\u001B[49m\n\u001B[1;32m     68\u001B[0m     \u001B[38;5;28;01mreturn\u001B[39;00m cur\u001B[38;5;241m.\u001B[39mfetchall()\n",
      "File \u001B[0;32m~/Library/Caches/pypoetry/virtualenvs/aita-KcnqpBLy-py3.9/lib/python3.9/site-packages/snowflake/connector/cursor.py:1080\u001B[0m, in \u001B[0;36mSnowflakeCursor.execute\u001B[0;34m(self, command, params, _bind_stage, timeout, _exec_async, _no_retry, _do_reset, _put_callback, _put_azure_callback, _put_callback_output_stream, _get_callback, _get_azure_callback, _get_callback_output_stream, _show_progress_bar, _statement_params, _is_internal, _describe_only, _no_results, _is_put_get, _raise_put_get_error, _force_put_overwrite, _skip_upload_on_content_match, file_stream, num_statements)\u001B[0m\n\u001B[1;32m   1076\u001B[0m     is_integrity_error \u001B[38;5;241m=\u001B[39m (\n\u001B[1;32m   1077\u001B[0m         code \u001B[38;5;241m==\u001B[39m \u001B[38;5;124m\"\u001B[39m\u001B[38;5;124m100072\u001B[39m\u001B[38;5;124m\"\u001B[39m\n\u001B[1;32m   1078\u001B[0m     )  \u001B[38;5;66;03m# NULL result in a non-nullable column\u001B[39;00m\n\u001B[1;32m   1079\u001B[0m     error_class \u001B[38;5;241m=\u001B[39m IntegrityError \u001B[38;5;28;01mif\u001B[39;00m is_integrity_error \u001B[38;5;28;01melse\u001B[39;00m ProgrammingError\n\u001B[0;32m-> 1080\u001B[0m     \u001B[43mError\u001B[49m\u001B[38;5;241;43m.\u001B[39;49m\u001B[43merrorhandler_wrapper\u001B[49m\u001B[43m(\u001B[49m\u001B[38;5;28;43mself\u001B[39;49m\u001B[38;5;241;43m.\u001B[39;49m\u001B[43mconnection\u001B[49m\u001B[43m,\u001B[49m\u001B[43m \u001B[49m\u001B[38;5;28;43mself\u001B[39;49m\u001B[43m,\u001B[49m\u001B[43m \u001B[49m\u001B[43merror_class\u001B[49m\u001B[43m,\u001B[49m\u001B[43m \u001B[49m\u001B[43merrvalue\u001B[49m\u001B[43m)\u001B[49m\n\u001B[1;32m   1081\u001B[0m \u001B[38;5;28;01mreturn\u001B[39;00m \u001B[38;5;28mself\u001B[39m\n",
      "File \u001B[0;32m~/Library/Caches/pypoetry/virtualenvs/aita-KcnqpBLy-py3.9/lib/python3.9/site-packages/snowflake/connector/errors.py:290\u001B[0m, in \u001B[0;36mError.errorhandler_wrapper\u001B[0;34m(connection, cursor, error_class, error_value)\u001B[0m\n\u001B[1;32m    267\u001B[0m \u001B[38;5;129m@staticmethod\u001B[39m\n\u001B[1;32m    268\u001B[0m \u001B[38;5;28;01mdef\u001B[39;00m \u001B[38;5;21merrorhandler_wrapper\u001B[39m(\n\u001B[1;32m    269\u001B[0m     connection: SnowflakeConnection \u001B[38;5;241m|\u001B[39m \u001B[38;5;28;01mNone\u001B[39;00m,\n\u001B[0;32m   (...)\u001B[0m\n\u001B[1;32m    272\u001B[0m     error_value: \u001B[38;5;28mdict\u001B[39m[\u001B[38;5;28mstr\u001B[39m, Any],\n\u001B[1;32m    273\u001B[0m ) \u001B[38;5;241m-\u001B[39m\u001B[38;5;241m>\u001B[39m \u001B[38;5;28;01mNone\u001B[39;00m:\n\u001B[1;32m    274\u001B[0m \u001B[38;5;250m    \u001B[39m\u001B[38;5;124;03m\"\"\"Error handler wrapper that calls the errorhandler method.\u001B[39;00m\n\u001B[1;32m    275\u001B[0m \n\u001B[1;32m    276\u001B[0m \u001B[38;5;124;03m    Args:\u001B[39;00m\n\u001B[0;32m   (...)\u001B[0m\n\u001B[1;32m    287\u001B[0m \u001B[38;5;124;03m        exception to the first handler in that order.\u001B[39;00m\n\u001B[1;32m    288\u001B[0m \u001B[38;5;124;03m    \"\"\"\u001B[39;00m\n\u001B[0;32m--> 290\u001B[0m     handed_over \u001B[38;5;241m=\u001B[39m \u001B[43mError\u001B[49m\u001B[38;5;241;43m.\u001B[39;49m\u001B[43mhand_to_other_handler\u001B[49m\u001B[43m(\u001B[49m\n\u001B[1;32m    291\u001B[0m \u001B[43m        \u001B[49m\u001B[43mconnection\u001B[49m\u001B[43m,\u001B[49m\n\u001B[1;32m    292\u001B[0m \u001B[43m        \u001B[49m\u001B[43mcursor\u001B[49m\u001B[43m,\u001B[49m\n\u001B[1;32m    293\u001B[0m \u001B[43m        \u001B[49m\u001B[43merror_class\u001B[49m\u001B[43m,\u001B[49m\n\u001B[1;32m    294\u001B[0m \u001B[43m        \u001B[49m\u001B[43merror_value\u001B[49m\u001B[43m,\u001B[49m\n\u001B[1;32m    295\u001B[0m \u001B[43m    \u001B[49m\u001B[43m)\u001B[49m\n\u001B[1;32m    296\u001B[0m     \u001B[38;5;28;01mif\u001B[39;00m \u001B[38;5;129;01mnot\u001B[39;00m handed_over:\n\u001B[1;32m    297\u001B[0m         \u001B[38;5;28;01mraise\u001B[39;00m Error\u001B[38;5;241m.\u001B[39merrorhandler_make_exception(\n\u001B[1;32m    298\u001B[0m             error_class,\n\u001B[1;32m    299\u001B[0m             error_value,\n\u001B[1;32m    300\u001B[0m         )\n",
      "File \u001B[0;32m~/Library/Caches/pypoetry/virtualenvs/aita-KcnqpBLy-py3.9/lib/python3.9/site-packages/snowflake/connector/errors.py:345\u001B[0m, in \u001B[0;36mError.hand_to_other_handler\u001B[0;34m(connection, cursor, error_class, error_value)\u001B[0m\n\u001B[1;32m    343\u001B[0m \u001B[38;5;28;01mif\u001B[39;00m cursor \u001B[38;5;129;01mis\u001B[39;00m \u001B[38;5;129;01mnot\u001B[39;00m \u001B[38;5;28;01mNone\u001B[39;00m:\n\u001B[1;32m    344\u001B[0m     cursor\u001B[38;5;241m.\u001B[39mmessages\u001B[38;5;241m.\u001B[39mappend((error_class, error_value))\n\u001B[0;32m--> 345\u001B[0m     \u001B[43mcursor\u001B[49m\u001B[38;5;241;43m.\u001B[39;49m\u001B[43merrorhandler\u001B[49m\u001B[43m(\u001B[49m\u001B[43mconnection\u001B[49m\u001B[43m,\u001B[49m\u001B[43m \u001B[49m\u001B[43mcursor\u001B[49m\u001B[43m,\u001B[49m\u001B[43m \u001B[49m\u001B[43merror_class\u001B[49m\u001B[43m,\u001B[49m\u001B[43m \u001B[49m\u001B[43merror_value\u001B[49m\u001B[43m)\u001B[49m\n\u001B[1;32m    346\u001B[0m     \u001B[38;5;28;01mreturn\u001B[39;00m \u001B[38;5;28;01mTrue\u001B[39;00m\n\u001B[1;32m    347\u001B[0m \u001B[38;5;28;01melif\u001B[39;00m connection \u001B[38;5;129;01mis\u001B[39;00m \u001B[38;5;129;01mnot\u001B[39;00m \u001B[38;5;28;01mNone\u001B[39;00m:\n",
      "File \u001B[0;32m~/Library/Caches/pypoetry/virtualenvs/aita-KcnqpBLy-py3.9/lib/python3.9/site-packages/snowflake/connector/errors.py:221\u001B[0m, in \u001B[0;36mError.default_errorhandler\u001B[0;34m(connection, cursor, error_class, error_value)\u001B[0m\n\u001B[1;32m    219\u001B[0m errno \u001B[38;5;241m=\u001B[39m error_value\u001B[38;5;241m.\u001B[39mget(\u001B[38;5;124m\"\u001B[39m\u001B[38;5;124merrno\u001B[39m\u001B[38;5;124m\"\u001B[39m)\n\u001B[1;32m    220\u001B[0m done_format_msg \u001B[38;5;241m=\u001B[39m error_value\u001B[38;5;241m.\u001B[39mget(\u001B[38;5;124m\"\u001B[39m\u001B[38;5;124mdone_format_msg\u001B[39m\u001B[38;5;124m\"\u001B[39m)\n\u001B[0;32m--> 221\u001B[0m \u001B[38;5;28;01mraise\u001B[39;00m error_class(\n\u001B[1;32m    222\u001B[0m     msg\u001B[38;5;241m=\u001B[39merror_value\u001B[38;5;241m.\u001B[39mget(\u001B[38;5;124m\"\u001B[39m\u001B[38;5;124mmsg\u001B[39m\u001B[38;5;124m\"\u001B[39m),\n\u001B[1;32m    223\u001B[0m     errno\u001B[38;5;241m=\u001B[39m\u001B[38;5;28;01mNone\u001B[39;00m \u001B[38;5;28;01mif\u001B[39;00m errno \u001B[38;5;129;01mis\u001B[39;00m \u001B[38;5;28;01mNone\u001B[39;00m \u001B[38;5;28;01melse\u001B[39;00m \u001B[38;5;28mint\u001B[39m(errno),\n\u001B[1;32m    224\u001B[0m     sqlstate\u001B[38;5;241m=\u001B[39merror_value\u001B[38;5;241m.\u001B[39mget(\u001B[38;5;124m\"\u001B[39m\u001B[38;5;124msqlstate\u001B[39m\u001B[38;5;124m\"\u001B[39m),\n\u001B[1;32m    225\u001B[0m     sfqid\u001B[38;5;241m=\u001B[39merror_value\u001B[38;5;241m.\u001B[39mget(\u001B[38;5;124m\"\u001B[39m\u001B[38;5;124msfqid\u001B[39m\u001B[38;5;124m\"\u001B[39m),\n\u001B[1;32m    226\u001B[0m     query\u001B[38;5;241m=\u001B[39merror_value\u001B[38;5;241m.\u001B[39mget(\u001B[38;5;124m\"\u001B[39m\u001B[38;5;124mquery\u001B[39m\u001B[38;5;124m\"\u001B[39m),\n\u001B[1;32m    227\u001B[0m     done_format_msg\u001B[38;5;241m=\u001B[39m(\n\u001B[1;32m    228\u001B[0m         \u001B[38;5;28;01mNone\u001B[39;00m \u001B[38;5;28;01mif\u001B[39;00m done_format_msg \u001B[38;5;129;01mis\u001B[39;00m \u001B[38;5;28;01mNone\u001B[39;00m \u001B[38;5;28;01melse\u001B[39;00m \u001B[38;5;28mbool\u001B[39m(done_format_msg)\n\u001B[1;32m    229\u001B[0m     ),\n\u001B[1;32m    230\u001B[0m     connection\u001B[38;5;241m=\u001B[39mconnection,\n\u001B[1;32m    231\u001B[0m     cursor\u001B[38;5;241m=\u001B[39mcursor,\n\u001B[1;32m    232\u001B[0m )\n",
      "\u001B[0;31mProgrammingError\u001B[0m: 002003 (02000): SQL compilation error:\nDatabase 'DEMO' does not exist or not authorized."
     ]
    }
   ],
   "source": [
    "# Basic example of using the SQL agent\n",
    "sql_agent = SqlAgent(sf_datasource, \"gpt-3.5-turbo\", 0.8, allow_extract_metadata=True)\n",
    "\n",
    "print(sql_agent.chat(\"I want to get the top customers which making the most purchases\"))\n"
   ],
   "metadata": {
    "collapsed": false
   }
  },
  {
   "cell_type": "code",
   "execution_count": null,
   "outputs": [],
   "source": [
    "# Example of using the SQL agent to run a tool such as querying the data source\n",
    "sample_sql_query = \"\"\"\n",
    "SELECT c_custkey, c_name, SUM(o_totalprice) AS total_purchase\n",
    "FROM snowflake_sample_data.tpch_sf1.customer\n",
    "JOIN snowflake_sample_data.tpch_sf1.orders\n",
    "ON c_custkey = o_custkey\n",
    "GROUP BY c_custkey, c_name\n",
    "ORDER BY total_purchase\n",
    "DESC LIMIT 10\n",
    "\"\"\"\n",
    "\n",
    "tool_spec = {\n",
    "    \"name\": \"sql_datasource_query\",\n",
    "    \"args\": {\n",
    "        \"query\": sample_sql_query\n",
    "    }\n",
    "}\n",
    "print(sql_agent.run_tool(tool_spec))\n",
    "\n",
    "# or rather specify the allow_run_tool=True in the chat method\n",
    "print(sql_agent.chat(\"extract snowflake data source metadata\", allow_run_tool=True))"
   ],
   "metadata": {
    "collapsed": false
   }
  },
  {
   "cell_type": "code",
   "execution_count": null,
   "outputs": [],
   "source": [
    "# Example of using the Pandas agent\n",
    "df1 = sf_datasource.to_pandas(\"SELECT * FROM CUSTOMER\")\n",
    "\n",
    "pandas_agent = PandasAgent({\"df1\": df1}, \"gpt-3.5-turbo\", 0.8)\n",
    "print(pandas_agent.chat(\"find the top 5 customers make the most purchases\", allow_run_tool=True))\n"
   ],
   "metadata": {
    "collapsed": false
   }
  },
  {
   "cell_type": "code",
   "execution_count": null,
   "outputs": [],
   "source": [
    "# Example of using the Python agent\n",
    "python_agent = PythonAgent(sf_datasource, \"gpt-3.5-turbo\", 0.8)\n",
    "python_agent.chat(\"python code to show the customers data with snowflake database as data source\", allow_run_tool=True)"
   ],
   "metadata": {
    "collapsed": false
   }
  }
 ],
 "metadata": {
  "kernelspec": {
   "display_name": "Python 3",
   "language": "python",
   "name": "python3"
  },
  "language_info": {
   "codemirror_mode": {
    "name": "ipython",
    "version": 2
   },
   "file_extension": ".py",
   "mimetype": "text/x-python",
   "name": "python",
   "nbconvert_exporter": "python",
   "pygments_lexer": "ipython2",
   "version": "2.7.6"
  }
 },
 "nbformat": 4,
 "nbformat_minor": 0
}
