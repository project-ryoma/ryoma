{
 "cells": [
  {
   "cell_type": "code",
   "execution_count": 1,
   "metadata": {
    "collapsed": true
   },
   "outputs": [],
   "source": [
    "import os\n",
    "\n",
    "# Set up the Snowflake and PostgreSQL data sources\n",
    "SNOWFLAKE_USER = os.environ.get(\"SNOWFLAKE_USER\")\n",
    "SNOWFLAKE_PASSWORD = os.environ.get(\"SNOWFLAKE_PASSWORD\")\n",
    "SNOWFLAKE_ACCOUNT = os.environ.get(\"SNOWFLAKE_ACCOUNT\")\n",
    "SNOWFLAKE_WAREHOUSE = os.environ.get(\"SNOWFLAKE_WAREHOUSE\")\n",
    "SNOWFLAKE_DATABASE = os.environ.get(\"SNOWFLAKE_DATABASE\")\n",
    "SNOWFLAKE_SCHEMA = os.environ.get(\"SNOWFLAKE_SCHEMA\")\n",
    "SNOWFLAKE_ROLE = os.environ.get(\"SNOWFLAKE_ROLE\")"
   ]
  },
  {
   "cell_type": "code",
   "execution_count": 2,
   "outputs": [],
   "source": [
    "import logging\n",
    "import sys\n",
    "\n",
    "date_strftime_format = \"%Y-%m-%y %H:%M:%S\"\n",
    "logging.basicConfig(\n",
    "    stream=sys.stdout,\n",
    "    level=logging.INFO,\n",
    "    format=\"%(asctime)s %(message)s\",\n",
    "    datefmt=date_strftime_format,\n",
    ")"
   ],
   "metadata": {
    "collapsed": false
   }
  },
  {
   "cell_type": "code",
   "execution_count": 3,
   "outputs": [
    {
     "ename": "ModuleNotFoundError",
     "evalue": "No module named 'databuilder'",
     "output_type": "error",
     "traceback": [
      "\u001B[0;31m---------------------------------------------------------------------------\u001B[0m",
      "\u001B[0;31mModuleNotFoundError\u001B[0m                       Traceback (most recent call last)",
      "Cell \u001B[0;32mIn[3], line 1\u001B[0m\n\u001B[0;32m----> 1\u001B[0m \u001B[38;5;28;01mfrom\u001B[39;00m \u001B[38;5;21;01mryoma\u001B[39;00m\u001B[38;5;21;01m.\u001B[39;00m\u001B[38;5;21;01mdatasource\u001B[39;00m\u001B[38;5;21;01m.\u001B[39;00m\u001B[38;5;21;01msnowflake\u001B[39;00m \u001B[38;5;28;01mimport\u001B[39;00m SnowflakeDataSource\n\u001B[1;32m      3\u001B[0m sf_datasource \u001B[38;5;241m=\u001B[39m SnowflakeDataSource(\n\u001B[1;32m      4\u001B[0m     user\u001B[38;5;241m=\u001B[39mSNOWFLAKE_USER,\n\u001B[1;32m      5\u001B[0m     password\u001B[38;5;241m=\u001B[39mSNOWFLAKE_PASSWORD,\n\u001B[0;32m   (...)\u001B[0m\n\u001B[1;32m     10\u001B[0m     role\u001B[38;5;241m=\u001B[39m\u001B[38;5;124m\"\u001B[39m\u001B[38;5;124mACCOUNTADMIN\u001B[39m\u001B[38;5;124m\"\u001B[39m,\n\u001B[1;32m     11\u001B[0m )\n",
      "File \u001B[0;32m~/dev/ryoma/ryoma/datasource/snowflake.py:6\u001B[0m\n\u001B[1;32m      3\u001B[0m \u001B[38;5;28;01mimport\u001B[39;00m \u001B[38;5;21;01mlogging\u001B[39;00m\n\u001B[1;32m      5\u001B[0m \u001B[38;5;28;01mimport\u001B[39;00m \u001B[38;5;21;01mibis\u001B[39;00m\n\u001B[0;32m----> 6\u001B[0m \u001B[38;5;28;01mfrom\u001B[39;00m \u001B[38;5;21;01mdatabuilder\u001B[39;00m\u001B[38;5;21;01m.\u001B[39;00m\u001B[38;5;21;01mextractor\u001B[39;00m\u001B[38;5;21;01m.\u001B[39;00m\u001B[38;5;21;01msql_alchemy_extractor\u001B[39;00m \u001B[38;5;28;01mimport\u001B[39;00m SQLAlchemyExtractor\n\u001B[1;32m      7\u001B[0m \u001B[38;5;28;01mfrom\u001B[39;00m \u001B[38;5;21;01mdatabuilder\u001B[39;00m\u001B[38;5;21;01m.\u001B[39;00m\u001B[38;5;21;01mjob\u001B[39;00m\u001B[38;5;21;01m.\u001B[39;00m\u001B[38;5;21;01mjob\u001B[39;00m \u001B[38;5;28;01mimport\u001B[39;00m DefaultJob\n\u001B[1;32m      8\u001B[0m \u001B[38;5;28;01mfrom\u001B[39;00m \u001B[38;5;21;01mdatabuilder\u001B[39;00m\u001B[38;5;21;01m.\u001B[39;00m\u001B[38;5;21;01mloader\u001B[39;00m\u001B[38;5;21;01m.\u001B[39;00m\u001B[38;5;21;01mbase_loader\u001B[39;00m \u001B[38;5;28;01mimport\u001B[39;00m Loader\n",
      "\u001B[0;31mModuleNotFoundError\u001B[0m: No module named 'databuilder'"
     ]
    }
   ],
   "source": [
    "from ryoma_ai.datasource.snowflake import SnowflakeDataSource\n",
    "\n",
    "sf_datasource = SnowflakeDataSource(\n",
    "    user=SNOWFLAKE_USER,\n",
    "    password=SNOWFLAKE_PASSWORD,\n",
    "    account=SNOWFLAKE_ACCOUNT,\n",
    "    warehouse=SNOWFLAKE_WAREHOUSE,\n",
    "    database=SNOWFLAKE_DATABASE,\n",
    "    db_schema=SNOWFLAKE_SCHEMA,\n",
    "    role=\"ACCOUNTADMIN\",\n",
    ")"
   ],
   "metadata": {
    "collapsed": false
   }
  },
  {
   "cell_type": "code",
   "execution_count": null,
   "outputs": [],
   "source": [
    "sf_datasource"
   ],
   "metadata": {
    "collapsed": false
   }
  },
  {
   "cell_type": "code",
   "execution_count": 4,
   "outputs": [],
   "source": [
    "# sf_datasource.query(\"select * from SNOWFLAKE_SAMPLE_DATA.TPCH_SF1.orders limit 3\")"
   ],
   "metadata": {
    "collapsed": false
   }
  },
  {
   "cell_type": "code",
   "execution_count": 5,
   "outputs": [],
   "source": [
    "from databuilder.loader.generic_loader import GenericLoader"
   ],
   "metadata": {
    "collapsed": false
   }
  },
  {
   "cell_type": "code",
   "execution_count": 7,
   "outputs": [
    {
     "ename": "TypeError",
     "evalue": "GenericLoader() takes no arguments",
     "output_type": "error",
     "traceback": [
      "\u001B[0;31m---------------------------------------------------------------------------\u001B[0m",
      "\u001B[0;31mTypeError\u001B[0m                                 Traceback (most recent call last)",
      "Cell \u001B[0;32mIn[7], line 1\u001B[0m\n\u001B[0;32m----> 1\u001B[0m sf_datasource\u001B[38;5;241m.\u001B[39mcrawl_data_catalog(loader\u001B[38;5;241m=\u001B[39m\u001B[43mGenericLoader\u001B[49m\u001B[43m(\u001B[49m\u001B[43mconf\u001B[49m\u001B[38;5;241;43m=\u001B[39;49m\u001B[43m{\u001B[49m\u001B[43m}\u001B[49m\u001B[43m)\u001B[49m)\n",
      "\u001B[0;31mTypeError\u001B[0m: GenericLoader() takes no arguments"
     ]
    }
   ],
   "source": [
    "sf_datasource.get_catalog(loader=GenericLoader())"
   ],
   "metadata": {
    "collapsed": false
   }
  },
  {
   "cell_type": "code",
   "execution_count": 1,
   "outputs": [],
   "source": [
    "import ibis"
   ],
   "metadata": {
    "collapsed": false
   }
  },
  {
   "cell_type": "code",
   "execution_count": 2,
   "outputs": [
    {
     "ename": "ModuleNotFoundError",
     "evalue": "No module named 'psycopg2'",
     "output_type": "error",
     "traceback": [
      "\u001B[0;31m---------------------------------------------------------------------------\u001B[0m",
      "\u001B[0;31mModuleNotFoundError\u001B[0m                       Traceback (most recent call last)",
      "Cell \u001B[0;32mIn[2], line 1\u001B[0m\n\u001B[0;32m----> 1\u001B[0m conn \u001B[38;5;241m=\u001B[39m \u001B[43mibis\u001B[49m\u001B[38;5;241;43m.\u001B[39;49m\u001B[43mpostgres\u001B[49m\u001B[38;5;241;43m.\u001B[39;49m\u001B[43mconnect\u001B[49m\u001B[43m(\u001B[49m\n\u001B[1;32m      2\u001B[0m \u001B[43m    \u001B[49m\u001B[43mhost\u001B[49m\u001B[38;5;241;43m=\u001B[39;49m\u001B[38;5;124;43m\"\u001B[39;49m\u001B[38;5;124;43mlocalhost\u001B[39;49m\u001B[38;5;124;43m\"\u001B[39;49m\u001B[43m,\u001B[49m\n\u001B[1;32m      3\u001B[0m \u001B[43m    \u001B[49m\u001B[43mport\u001B[49m\u001B[38;5;241;43m=\u001B[39;49m\u001B[38;5;241;43m5432\u001B[39;49m\u001B[43m,\u001B[49m\n\u001B[1;32m      4\u001B[0m \u001B[43m    \u001B[49m\u001B[43mdatabase\u001B[49m\u001B[38;5;241;43m=\u001B[39;49m\u001B[38;5;124;43m\"\u001B[39;49m\u001B[38;5;124;43mpostgres\u001B[39;49m\u001B[38;5;124;43m\"\u001B[39;49m\u001B[43m,\u001B[49m\n\u001B[1;32m      5\u001B[0m \u001B[43m)\u001B[49m\n",
      "File \u001B[0;32m~/.pyenv/versions/3.11.9/lib/python3.11/site-packages/ibis/__init__.py:107\u001B[0m, in \u001B[0;36m__getattr__.<locals>.connect\u001B[0;34m(*args, **kwargs)\u001B[0m\n\u001B[1;32m    106\u001B[0m \u001B[38;5;28;01mdef\u001B[39;00m \u001B[38;5;21mconnect\u001B[39m(\u001B[38;5;241m*\u001B[39margs, \u001B[38;5;241m*\u001B[39m\u001B[38;5;241m*\u001B[39mkwargs):\n\u001B[0;32m--> 107\u001B[0m     \u001B[38;5;28;01mreturn\u001B[39;00m \u001B[43mbackend\u001B[49m\u001B[38;5;241;43m.\u001B[39;49m\u001B[43mconnect\u001B[49m\u001B[43m(\u001B[49m\u001B[38;5;241;43m*\u001B[39;49m\u001B[43margs\u001B[49m\u001B[43m,\u001B[49m\u001B[43m \u001B[49m\u001B[38;5;241;43m*\u001B[39;49m\u001B[38;5;241;43m*\u001B[39;49m\u001B[43mkwargs\u001B[49m\u001B[43m)\u001B[49m\n",
      "File \u001B[0;32m~/.pyenv/versions/3.11.9/lib/python3.11/site-packages/ibis/backends/base/__init__.py:847\u001B[0m, in \u001B[0;36mBaseBackend.connect\u001B[0;34m(self, *args, **kwargs)\u001B[0m\n\u001B[1;32m    824\u001B[0m \u001B[38;5;250m\u001B[39m\u001B[38;5;124;03m\"\"\"Connect to the database.\u001B[39;00m\n\u001B[1;32m    825\u001B[0m \n\u001B[1;32m    826\u001B[0m \u001B[38;5;124;03mParameters\u001B[39;00m\n\u001B[0;32m   (...)\u001B[0m\n\u001B[1;32m    844\u001B[0m \u001B[38;5;124;03m    An instance of the backend\u001B[39;00m\n\u001B[1;32m    845\u001B[0m \u001B[38;5;124;03m\"\"\"\u001B[39;00m\n\u001B[1;32m    846\u001B[0m new_backend \u001B[38;5;241m=\u001B[39m \u001B[38;5;28mself\u001B[39m\u001B[38;5;241m.\u001B[39m\u001B[38;5;18m__class__\u001B[39m(\u001B[38;5;241m*\u001B[39margs, \u001B[38;5;241m*\u001B[39m\u001B[38;5;241m*\u001B[39mkwargs)\n\u001B[0;32m--> 847\u001B[0m \u001B[43mnew_backend\u001B[49m\u001B[38;5;241;43m.\u001B[39;49m\u001B[43mreconnect\u001B[49m\u001B[43m(\u001B[49m\u001B[43m)\u001B[49m\n\u001B[1;32m    848\u001B[0m \u001B[38;5;28;01mreturn\u001B[39;00m new_backend\n",
      "File \u001B[0;32m~/.pyenv/versions/3.11.9/lib/python3.11/site-packages/ibis/backends/base/__init__.py:862\u001B[0m, in \u001B[0;36mBaseBackend.reconnect\u001B[0;34m(self)\u001B[0m\n\u001B[1;32m    860\u001B[0m \u001B[38;5;28;01mdef\u001B[39;00m \u001B[38;5;21mreconnect\u001B[39m(\u001B[38;5;28mself\u001B[39m) \u001B[38;5;241m-\u001B[39m\u001B[38;5;241m>\u001B[39m \u001B[38;5;28;01mNone\u001B[39;00m:\n\u001B[1;32m    861\u001B[0m \u001B[38;5;250m    \u001B[39m\u001B[38;5;124;03m\"\"\"Reconnect to the database already configured with connect.\"\"\"\u001B[39;00m\n\u001B[0;32m--> 862\u001B[0m     \u001B[38;5;28;43mself\u001B[39;49m\u001B[38;5;241;43m.\u001B[39;49m\u001B[43mdo_connect\u001B[49m\u001B[43m(\u001B[49m\u001B[38;5;241;43m*\u001B[39;49m\u001B[38;5;28;43mself\u001B[39;49m\u001B[38;5;241;43m.\u001B[39;49m\u001B[43m_con_args\u001B[49m\u001B[43m,\u001B[49m\u001B[43m \u001B[49m\u001B[38;5;241;43m*\u001B[39;49m\u001B[38;5;241;43m*\u001B[39;49m\u001B[38;5;28;43mself\u001B[39;49m\u001B[38;5;241;43m.\u001B[39;49m\u001B[43m_con_kwargs\u001B[49m\u001B[43m)\u001B[49m\n",
      "File \u001B[0;32m~/.pyenv/versions/3.11.9/lib/python3.11/site-packages/ibis/backends/postgres/__init__.py:119\u001B[0m, in \u001B[0;36mBackend.do_connect\u001B[0;34m(self, host, user, password, port, database, schema, url, driver)\u001B[0m\n\u001B[1;32m    116\u001B[0m \u001B[38;5;28;01mif\u001B[39;00m schema \u001B[38;5;129;01mis\u001B[39;00m \u001B[38;5;129;01mnot\u001B[39;00m \u001B[38;5;28;01mNone\u001B[39;00m:\n\u001B[1;32m    117\u001B[0m     connect_args[\u001B[38;5;124m\"\u001B[39m\u001B[38;5;124moptions\u001B[39m\u001B[38;5;124m\"\u001B[39m] \u001B[38;5;241m=\u001B[39m \u001B[38;5;124mf\u001B[39m\u001B[38;5;124m\"\u001B[39m\u001B[38;5;124m-csearch_path=\u001B[39m\u001B[38;5;132;01m{\u001B[39;00mschema\u001B[38;5;132;01m}\u001B[39;00m\u001B[38;5;124m\"\u001B[39m\n\u001B[0;32m--> 119\u001B[0m engine \u001B[38;5;241m=\u001B[39m \u001B[43msa\u001B[49m\u001B[38;5;241;43m.\u001B[39;49m\u001B[43mcreate_engine\u001B[49m\u001B[43m(\u001B[49m\n\u001B[1;32m    120\u001B[0m \u001B[43m    \u001B[49m\u001B[43malchemy_url\u001B[49m\u001B[43m,\u001B[49m\u001B[43m \u001B[49m\u001B[43mconnect_args\u001B[49m\u001B[38;5;241;43m=\u001B[39;49m\u001B[43mconnect_args\u001B[49m\u001B[43m,\u001B[49m\u001B[43m \u001B[49m\u001B[43mpoolclass\u001B[49m\u001B[38;5;241;43m=\u001B[39;49m\u001B[43msa\u001B[49m\u001B[38;5;241;43m.\u001B[39;49m\u001B[43mpool\u001B[49m\u001B[38;5;241;43m.\u001B[39;49m\u001B[43mStaticPool\u001B[49m\n\u001B[1;32m    121\u001B[0m \u001B[43m\u001B[49m\u001B[43m)\u001B[49m\n\u001B[1;32m    123\u001B[0m \u001B[38;5;129m@sa\u001B[39m\u001B[38;5;241m.\u001B[39mevent\u001B[38;5;241m.\u001B[39mlistens_for(engine, \u001B[38;5;124m\"\u001B[39m\u001B[38;5;124mconnect\u001B[39m\u001B[38;5;124m\"\u001B[39m)\n\u001B[1;32m    124\u001B[0m \u001B[38;5;28;01mdef\u001B[39;00m \u001B[38;5;21mconnect\u001B[39m(dbapi_connection, connection_record):\n\u001B[1;32m    125\u001B[0m     \u001B[38;5;28;01mwith\u001B[39;00m dbapi_connection\u001B[38;5;241m.\u001B[39mcursor() \u001B[38;5;28;01mas\u001B[39;00m cur:\n",
      "File \u001B[0;32m<string>:2\u001B[0m, in \u001B[0;36mcreate_engine\u001B[0;34m(url, **kwargs)\u001B[0m\n",
      "File \u001B[0;32m~/.pyenv/versions/3.11.9/lib/python3.11/site-packages/sqlalchemy/util/deprecations.py:281\u001B[0m, in \u001B[0;36mdeprecated_params.<locals>.decorate.<locals>.warned\u001B[0;34m(fn, *args, **kwargs)\u001B[0m\n\u001B[1;32m    274\u001B[0m     \u001B[38;5;28;01mif\u001B[39;00m m \u001B[38;5;129;01min\u001B[39;00m kwargs:\n\u001B[1;32m    275\u001B[0m         _warn_with_version(\n\u001B[1;32m    276\u001B[0m             messages[m],\n\u001B[1;32m    277\u001B[0m             versions[m],\n\u001B[1;32m    278\u001B[0m             version_warnings[m],\n\u001B[1;32m    279\u001B[0m             stacklevel\u001B[38;5;241m=\u001B[39m\u001B[38;5;241m3\u001B[39m,\n\u001B[1;32m    280\u001B[0m         )\n\u001B[0;32m--> 281\u001B[0m \u001B[38;5;28;01mreturn\u001B[39;00m \u001B[43mfn\u001B[49m\u001B[43m(\u001B[49m\u001B[38;5;241;43m*\u001B[39;49m\u001B[43margs\u001B[49m\u001B[43m,\u001B[49m\u001B[43m \u001B[49m\u001B[38;5;241;43m*\u001B[39;49m\u001B[38;5;241;43m*\u001B[39;49m\u001B[43mkwargs\u001B[49m\u001B[43m)\u001B[49m\n",
      "File \u001B[0;32m~/.pyenv/versions/3.11.9/lib/python3.11/site-packages/sqlalchemy/engine/create.py:599\u001B[0m, in \u001B[0;36mcreate_engine\u001B[0;34m(url, **kwargs)\u001B[0m\n\u001B[1;32m    597\u001B[0m         \u001B[38;5;28;01mif\u001B[39;00m k \u001B[38;5;129;01min\u001B[39;00m kwargs:\n\u001B[1;32m    598\u001B[0m             dbapi_args[k] \u001B[38;5;241m=\u001B[39m pop_kwarg(k)\n\u001B[0;32m--> 599\u001B[0m     dbapi \u001B[38;5;241m=\u001B[39m \u001B[43mdbapi_meth\u001B[49m\u001B[43m(\u001B[49m\u001B[38;5;241;43m*\u001B[39;49m\u001B[38;5;241;43m*\u001B[39;49m\u001B[43mdbapi_args\u001B[49m\u001B[43m)\u001B[49m\n\u001B[1;32m    601\u001B[0m dialect_args[\u001B[38;5;124m\"\u001B[39m\u001B[38;5;124mdbapi\u001B[39m\u001B[38;5;124m\"\u001B[39m] \u001B[38;5;241m=\u001B[39m dbapi\n\u001B[1;32m    603\u001B[0m dialect_args\u001B[38;5;241m.\u001B[39msetdefault(\u001B[38;5;124m\"\u001B[39m\u001B[38;5;124mcompiler_linting\u001B[39m\u001B[38;5;124m\"\u001B[39m, compiler\u001B[38;5;241m.\u001B[39mNO_LINTING)\n",
      "File \u001B[0;32m~/.pyenv/versions/3.11.9/lib/python3.11/site-packages/sqlalchemy/dialects/postgresql/psycopg2.py:690\u001B[0m, in \u001B[0;36mPGDialect_psycopg2.import_dbapi\u001B[0;34m(cls)\u001B[0m\n\u001B[1;32m    688\u001B[0m \u001B[38;5;129m@classmethod\u001B[39m\n\u001B[1;32m    689\u001B[0m \u001B[38;5;28;01mdef\u001B[39;00m \u001B[38;5;21mimport_dbapi\u001B[39m(\u001B[38;5;28mcls\u001B[39m):\n\u001B[0;32m--> 690\u001B[0m     \u001B[38;5;28;01mimport\u001B[39;00m \u001B[38;5;21;01mpsycopg2\u001B[39;00m\n\u001B[1;32m    692\u001B[0m     \u001B[38;5;28;01mreturn\u001B[39;00m psycopg2\n",
      "\u001B[0;31mModuleNotFoundError\u001B[0m: No module named 'psycopg2'"
     ]
    }
   ],
   "source": [
    "conn = ibis.postgres.connect(\n",
    "    host=\"localhost\",\n",
    "    port=5432,\n",
    "    database=\"postgres\",\n",
    ")"
   ],
   "metadata": {
    "collapsed": false
   }
  },
  {
   "cell_type": "code",
   "execution_count": null,
   "outputs": [],
   "source": [
    "conn.list_schemas()"
   ],
   "metadata": {
    "collapsed": false
   }
  },
  {
   "cell_type": "code",
   "execution_count": 5,
   "outputs": [
    {
     "data": {
      "text/plain": "SQLQueryResult\n  query:\n    select * from information_schema.tables limit 3\n  schema:\n    table_catalog                string\n    table_schema                 string\n    table_name                   string\n    table_type                   string\n    self_referencing_column_name string\n    reference_generation         string\n    user_defined_type_catalog    string\n    user_defined_type_schema     string\n    user_defined_type_name       string\n    is_insertable_into           string\n    is_typed                     string\n    commit_action                string",
      "text/html": "<pre style=\"white-space:pre;overflow-x:auto;line-height:normal;font-family:Menlo,'DejaVu Sans Mono',consolas,'Courier New',monospace\">SQLQueryResult\n  query:\n    select * from information_schema.tables limit 3\n  schema:\n    table_catalog                string\n    table_schema                 string\n    table_name                   string\n    table_type                   string\n    self_referencing_column_name string\n    reference_generation         string\n    user_defined_type_catalog    string\n    user_defined_type_schema     string\n    user_defined_type_name       string\n    is_insertable_into           string\n    is_typed                     string\n    commit_action                string\n</pre>\n"
     },
     "execution_count": 5,
     "metadata": {},
     "output_type": "execute_result"
    }
   ],
   "source": [
    "conn.sql(\"select * from information_schema.tables limit 3\")"
   ],
   "metadata": {
    "collapsed": false
   }
  },
  {
   "cell_type": "code",
   "execution_count": 7,
   "outputs": [
    {
     "name": "stdout",
     "output_type": "stream",
     "text": [
      "9.0.0\n"
     ]
    }
   ],
   "source": [
    "print(ibis.__version__)"
   ],
   "metadata": {
    "collapsed": false
   }
  },
  {
   "cell_type": "code",
   "execution_count": null,
   "outputs": [],
   "source": [],
   "metadata": {
    "collapsed": false
   }
  }
 ],
 "metadata": {
  "kernelspec": {
   "name": "python3",
   "language": "python",
   "display_name": "Python 3 (ipykernel)"
  },
  "language_info": {
   "codemirror_mode": {
    "name": "ipython",
    "version": 2
   },
   "file_extension": ".py",
   "mimetype": "text/x-python",
   "name": "python",
   "nbconvert_exporter": "python",
   "pygments_lexer": "ipython2",
   "version": "2.7.6"
  }
 },
 "nbformat": 4,
 "nbformat_minor": 0
}
