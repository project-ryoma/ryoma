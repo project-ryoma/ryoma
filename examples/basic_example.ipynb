{
 "cells": [
  {
   "cell_type": "code",
   "metadata": {
    "collapsed": true,
    "pycharm": {
     "is_executing": true
    },
    "ExecuteTime": {
     "end_time": "2025-08-03T00:00:14.512450Z",
     "start_time": "2025-08-03T00:00:12.430784Z"
    }
   },
   "source": [
    "import importlib\n",
    "# import ryoma_ai.agent.chat_agent\n",
    "import ryoma_ai.agent.sql\n",
    "# importlib.reload(ryoma_ai.agent.chat_agent)\n",
    "importlib.reload(ryoma_ai.agent.sql)"
   ],
   "outputs": [
    {
     "data": {
      "text/plain": [
       "<module 'ryoma_ai.agent.sql' from '/Users/haoxu/dev/genaiz4/ryoma/packages/ryoma_ai/ryoma_ai/agent/sql.py'>"
      ]
     },
     "execution_count": 1,
     "metadata": {},
     "output_type": "execute_result"
    }
   ],
   "execution_count": 1
  },
  {
   "metadata": {
    "ExecuteTime": {
     "end_time": "2025-08-03T00:00:14.612975Z",
     "start_time": "2025-08-03T00:00:14.611398Z"
    }
   },
   "cell_type": "code",
   "source": "from ryoma_ai.agent.chat_agent import ChatAgent\n",
   "outputs": [],
   "execution_count": 2
  },
  {
   "cell_type": "markdown",
   "source": [
    "## Ensure the OpenAI API key is set in the environment"
   ],
   "metadata": {
    "collapsed": false
   }
  },
  {
   "cell_type": "code",
   "source": [
    "# Create an simple ryoma Agent with GPT-3.5-turbo model\n",
    "ryoma_agent = ChatAgent(\"gpt-3.5-turbo\")\n",
    "ryoma_agent.stream(\"I want to get the top 5 customers which making the most purchases\")"
   ],
   "metadata": {
    "collapsed": false,
    "ExecuteTime": {
     "end_time": "2025-07-27T15:55:13.611822Z",
     "start_time": "2025-07-27T15:55:11.656263Z"
    }
   },
   "outputs": [
    {
     "name": "stdout",
     "output_type": "stream",
     "text": [
      "Great! How can I assist you today with data science, analysis, or data engineering?"
     ]
    },
    {
     "data": {
      "text/plain": [
       "<generator object RunnableSequence.stream at 0x10ea87c40>"
      ]
     },
     "execution_count": 21,
     "metadata": {},
     "output_type": "execute_result"
    }
   ],
   "execution_count": 21
  },
  {
   "cell_type": "code",
   "execution_count": 2,
   "outputs": [
    {
     "name": "stdout",
     "output_type": "stream",
     "text": [
      "To get the top 5 customers who have made the most purchases from the `snowflake_sample_data.tpch_sf1` dataset, you can run a SQL query similar to the following:\n",
      "\n",
      "```sql\n",
      "SELECT c.c_custkey, c.c_name, COUNT(o.o_orderkey) AS total_orders\n",
      "FROM snowflake_sample_data.tpch_sf1.customer c\n",
      "JOIN snowflake_sample_data.tpch_sf1.orders o ON c.c_custkey = o.o_custkey\n",
      "GROUP BY c.c_custkey, c.c_name\n",
      "ORDER BY total_orders DESC\n",
      "LIMIT 5;\n",
      "```\n",
      "\n",
      "In this query:\n",
      "- We are selecting the customer key (`c_custkey`) and customer name (`c_name`) from the `customer` table, and counting the number of orders for each customer by joining the `orders` table on the `c_custkey` and `o_custkey`.\n",
      "- We are grouping the results by customer key and name.\n",
      "- We are then ordering the results in descending order based on the total number of orders.\n",
      "- Finally, we are limiting the output to the top 5 customers.\n",
      "\n",
      "Please adjust the column names and table aliases based on the actual schema of your dataset if they are different from the example provided."
     ]
    },
    {
     "data": {
      "text/plain": "<generator object RunnableSequence.stream at 0x1687a5120>"
     },
     "execution_count": 2,
     "metadata": {},
     "output_type": "execute_result"
    }
   ],
   "source": [
    "# Example of using a customized prompt template\n",
    "ryoma_agent = ChatAgent(\"gpt-3.5-turbo\").set_context_prompt(\n",
    "    \"Data Schema: snowflake_sample_data.tpch_sf1\"\n",
    ")\n",
    "ryoma_agent.stream(\"I want to get the top 5 customers which making the most purchases\")"
   ],
   "metadata": {
    "collapsed": false
   }
  },
  {
   "cell_type": "markdown",
   "source": [
    "## SqlAgent example"
   ],
   "metadata": {
    "collapsed": false
   }
  },
  {
   "cell_type": "code",
   "source": [
    "import os\n",
    "from ryoma_ai.agent.chat_agent import ChatAgent\n",
    "from ryoma_ai.datasource.snowflake import SnowflakeDataSource\n",
    "\n",
    "# Set up the Snowflake and PostgreSQL data sources\n",
    "SNOWFLAKE_USER = os.environ.get(\"SNOWFLAKE_USER\")\n",
    "SNOWFLAKE_PASSWORD = os.environ.get(\"SNOWFLAKE_PASSWORD\")\n",
    "SNOWFLAKE_ACCOUNT = os.environ.get(\"SNOWFLAKE_ACCOUNT\")\n",
    "SNOWFLAKE_WAREHOUSE = os.environ.get(\"SNOWFLAKE_WAREHOUSE\")\n",
    "SNOWFLAKE_DATABASE = os.environ.get(\"SNOWFLAKE_DATABASE\")\n",
    "SNOWFLAKE_SCHEMA = os.environ.get(\"SNOWFLAKE_SCHEMA\")\n",
    "SNOWFLAKE_ROLE = os.environ.get(\"SNOWFLAKE_ROLE\")"
   ],
   "metadata": {
    "collapsed": false,
    "ExecuteTime": {
     "end_time": "2025-07-31T05:20:34.421012Z",
     "start_time": "2025-07-31T05:20:34.397216Z"
    }
   },
   "outputs": [],
   "execution_count": 3
  },
  {
   "cell_type": "code",
   "source": [
    "sf_datasource = SnowflakeDataSource(\n",
    "    user=SNOWFLAKE_USER,\n",
    "    password=SNOWFLAKE_PASSWORD,\n",
    "    account=SNOWFLAKE_ACCOUNT,\n",
    "    warehouse=SNOWFLAKE_WAREHOUSE,\n",
    "    database=SNOWFLAKE_DATABASE,\n",
    "    db_schema=SNOWFLAKE_SCHEMA,\n",
    "    role=\"ACCOUNTADMIN\",\n",
    ")"
   ],
   "metadata": {
    "collapsed": false,
    "ExecuteTime": {
     "end_time": "2025-07-31T05:20:36.912555Z",
     "start_time": "2025-07-31T05:20:36.887166Z"
    }
   },
   "outputs": [],
   "execution_count": 4
  },
  {
   "cell_type": "code",
   "source": [
    "# Example of using the ryomaAgent with a Snowflake data source, This means no data catalog is provided to the agent.\n",
    "ryoma_agent = (\n",
    "    ChatAgent(\"gpt-3.5-turbo\")\n",
    "    .add_datasource(sf_datasource)\n",
    ")"
   ],
   "metadata": {
    "collapsed": false,
    "ExecuteTime": {
     "end_time": "2025-07-31T04:56:32.528066Z",
     "start_time": "2025-07-31T04:56:32.293539Z"
    }
   },
   "outputs": [],
   "execution_count": 4
  },
  {
   "cell_type": "code",
   "source": [
    "ryoma_agent.stream(\n",
    "    \"I want to get the top 5 customers which making the most purchases\", display=True\n",
    ")"
   ],
   "metadata": {
    "collapsed": false,
    "ExecuteTime": {
     "end_time": "2025-07-27T15:55:34.172750Z",
     "start_time": "2025-07-27T15:55:33.671874Z"
    }
   },
   "outputs": [
    {
     "name": "stdout",
     "output_type": "stream",
     "text": [
      "Hello! How can I assist you today with your data science, analysis, or data engineering needs?"
     ]
    },
    {
     "data": {
      "text/plain": [
       "<generator object RunnableSequence.stream at 0x16852d990>"
      ]
     },
     "execution_count": 25,
     "metadata": {},
     "output_type": "execute_result"
    }
   ],
   "execution_count": 25
  },
  {
   "cell_type": "code",
   "source": [
    "# Basic example of using the SQL agent, The data catalog is provided to the agent.\n",
    "from ryoma_ai.agent.sql import SqlAgent\n",
    "from ryoma_ai.prompt.base import BasicContextPromptTemplate\n",
    "from ryoma_ai.agent.workflow import ToolMode\n",
    "\n",
    "sql_agent = (\n",
    "    SqlAgent(\"gpt-3.5-turbo\")\n",
    "    .add_datasource(sf_datasource)\n",
    ")"
   ],
   "metadata": {
    "collapsed": false,
    "ExecuteTime": {
     "end_time": "2025-07-31T05:20:40.677197Z",
     "start_time": "2025-07-31T05:20:40.305965Z"
    }
   },
   "outputs": [],
   "execution_count": 5
  },
  {
   "cell_type": "code",
   "source": [
    "sql_agent.stream(\n",
    "    \"I want to get the top 5 customers which making the most purchases\", display=True\n",
    ")"
   ],
   "metadata": {
    "collapsed": false,
    "ExecuteTime": {
     "end_time": "2025-07-31T05:20:42.955330Z",
     "start_time": "2025-07-31T05:20:42.123421Z"
    }
   },
   "outputs": [
    {
     "name": "stdout",
     "output_type": "stream",
     "text": [
      "================================\u001B[1m Human Message \u001B[0m=================================\n",
      "\n",
      "I want to get the top 5 customers which making the most purchases\n",
      "==================================\u001B[1m Ai Message \u001B[0m==================================\n",
      "Tool Calls:\n",
      "  sql_database_query (call_XoXUiEatihTnMtQKKuIDqKXm)\n",
      " Call ID: call_XoXUiEatihTnMtQKKuIDqKXm\n",
      "  Args:\n",
      "    query: SELECT customer_id, SUM(total_price) as total_purchases FROM purchases GROUP BY customer_id ORDER BY total_purchases DESC LIMIT 5\n"
     ]
    },
    {
     "data": {
      "text/plain": [
       "<generator object Pregel.stream at 0x17796c950>"
      ]
     },
     "execution_count": 6,
     "metadata": {},
     "output_type": "execute_result"
    }
   ],
   "execution_count": 6
  },
  {
   "metadata": {},
   "cell_type": "markdown",
   "source": ""
  },
  {
   "cell_type": "code",
   "source": [
    "sql_agent.stream(tool_mode=ToolMode.ONCE)"
   ],
   "metadata": {
    "collapsed": false,
    "ExecuteTime": {
     "end_time": "2025-07-31T05:20:50.546415Z",
     "start_time": "2025-07-31T05:20:48.053637Z"
    }
   },
   "outputs": [
    {
     "name": "stdout",
     "output_type": "stream",
     "text": [
      "================================\u001B[1m Human Message \u001B[0m=================================\n",
      "\n",
      "I want to get the top 5 customers which making the most purchases\n",
      "==================================\u001B[1m Ai Message \u001B[0m==================================\n",
      "Tool Calls:\n",
      "  sql_database_query (call_XoXUiEatihTnMtQKKuIDqKXm)\n",
      " Call ID: call_XoXUiEatihTnMtQKKuIDqKXm\n",
      "  Args:\n",
      "    query: SELECT customer_id, SUM(total_price) as total_purchases FROM purchases GROUP BY customer_id ORDER BY total_purchases DESC LIMIT 5\n",
      "=================================\u001B[1m Tool Message \u001B[0m=================================\n",
      "Name: sql_database_query\n",
      "\n",
      "Received an error while executing the query: Failed to connect to Snowflake: 250001 (08001): Failed to connect to DB: mslzuie-afb39027.snowflakecomputing.com:443. Programmatic access token is expired.\n",
      "==================================\u001B[1m Ai Message \u001B[0m==================================\n",
      "\n",
      "It seems there was an issue with accessing the database due to an expired programmatic access token. To resolve this, I will retry the query after refreshing the access token.\n",
      "Tool Calls:\n",
      "  query_profile (call_ylYFYPm2ivmmMXkUHQ2ndwBR)\n",
      " Call ID: call_ylYFYPm2ivmmMXkUHQ2ndwBR\n",
      "  Args:\n",
      "    query: SELECT customer_id, SUM(total_price) as total_purchases FROM purchases GROUP BY customer_id ORDER BY total_purchases DESC LIMIT 5\n",
      "  query_profile (call_PczRGWoXsdFfxkmpfjp2bhNt)\n",
      " Call ID: call_PczRGWoXsdFfxkmpfjp2bhNt\n",
      "  Args:\n",
      "    query: SELECT customer_id, SUM(total_price) as total_purchases FROM purchases GROUP BY customer_id ORDER BY total_purchases DESC LIMIT 5\n"
     ]
    },
    {
     "data": {
      "text/plain": [
       "<generator object Pregel.stream at 0x17796d090>"
      ]
     },
     "execution_count": 7,
     "metadata": {},
     "output_type": "execute_result"
    }
   ],
   "execution_count": 7
  },
  {
   "cell_type": "code",
   "execution_count": 11,
   "outputs": [
    {
     "name": "stdout",
     "output_type": "stream",
     "text": [
      "================================\u001B[1m Human Message \u001B[0m=================================\n",
      "\n",
      "\n",
      "SELECT c_custkey, c_name, SUM(o_totalprice) AS total_purchase\n",
      "FROM snowflake_sample_data.tpch_sf1.customer\n",
      "JOIN snowflake_sample_data.tpch_sf1.orders\n",
      "ON c_custkey = o_custkey\n",
      "GROUP BY c_custkey, c_name\n",
      "ORDER BY total_purchase\n",
      "DESC LIMIT 10\n",
      "\n",
      "==================================\u001B[1m Ai Message \u001B[0m==================================\n",
      "\n",
      "It seems you have run the query again. The top 5 customers with the most purchases are:\n",
      "\n",
      "1. Customer#000143500 - Total Purchase: $7,012,696.48\n",
      "2. Customer#000095257 - Total Purchase: $6,563,511.23\n",
      "3. Customer#000087115 - Total Purchase: $6,457,526.26\n",
      "4. Customer#000131113 - Total Purchase: $6,311,428.86\n",
      "5. Customer#000103834 - Total Purchase: $6,306,524.23\n",
      "\n",
      "These customers have the highest total purchase amounts.\n"
     ]
    },
    {
     "data": {
      "text/plain": "<generator object Pregel.stream at 0x1379dd820>"
     },
     "execution_count": 11,
     "metadata": {},
     "output_type": "execute_result"
    }
   ],
   "source": [
    "# Example of using the SQL agent to run a SQL query directly.\n",
    "sample_sql_query = \"\"\"\n",
    "SELECT c_custkey, c_name, SUM(o_totalprice) AS total_purchase\n",
    "FROM snowflake_sample_data.tpch_sf1.customer\n",
    "JOIN snowflake_sample_data.tpch_sf1.orders\n",
    "ON c_custkey = o_custkey\n",
    "GROUP BY c_custkey, c_name\n",
    "ORDER BY total_purchase\n",
    "DESC LIMIT 10\n",
    "\"\"\"\n",
    "\n",
    "sql_agent.stream(sample_sql_query)"
   ],
   "metadata": {
    "collapsed": false
   }
  },
  {
   "cell_type": "code",
   "execution_count": null,
   "outputs": [],
   "source": [],
   "metadata": {
    "collapsed": false
   }
  }
 ],
 "metadata": {
  "kernelspec": {
   "name": "python3",
   "language": "python",
   "display_name": "Python 3 (ipykernel)"
  },
  "language_info": {
   "codemirror_mode": {
    "name": "ipython",
    "version": 2
   },
   "file_extension": ".py",
   "mimetype": "text/x-python",
   "name": "python",
   "nbconvert_exporter": "python",
   "pygments_lexer": "ipython2",
   "version": "2.7.6"
  }
 },
 "nbformat": 4,
 "nbformat_minor": 0
}
